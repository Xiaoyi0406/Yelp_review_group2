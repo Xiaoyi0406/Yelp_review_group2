{
 "cells": [
  {
   "cell_type": "code",
   "execution_count": 1,
   "metadata": {},
   "outputs": [],
   "source": [
    "import json\n",
    "import pandas as pd\n",
    "import numpy as np\n",
    "import matplotlib.pyplot as plt\n",
    "import string\n",
    "import math\n",
    "from mpl_toolkits.basemap import Basemap\n",
    "from matplotlib import cm\n",
    "import seaborn as sns\n",
    "from sklearn.decomposition import LatentDirichletAllocation"
   ]
  },
  {
   "cell_type": "code",
   "execution_count": 54,
   "metadata": {},
   "outputs": [],
   "source": [
    "f = pd.read_csv( '/Users/zzz/Dropbox/未命名文件夹/data/res_by_name/newdata/Burger/burger_r.csv',encoding = 'utf-8',index_col = 0)"
   ]
  },
  {
   "cell_type": "raw",
   "metadata": {},
   "source": [
    "f.info()"
   ]
  },
  {
   "cell_type": "code",
   "execution_count": 55,
   "metadata": {},
   "outputs": [
    {
     "data": {
      "text/html": [
       "<div>\n",
       "<style scoped>\n",
       "    .dataframe tbody tr th:only-of-type {\n",
       "        vertical-align: middle;\n",
       "    }\n",
       "\n",
       "    .dataframe tbody tr th {\n",
       "        vertical-align: top;\n",
       "    }\n",
       "\n",
       "    .dataframe thead th {\n",
       "        text-align: right;\n",
       "    }\n",
       "</style>\n",
       "<table border=\"1\" class=\"dataframe\">\n",
       "  <thead>\n",
       "    <tr style=\"text-align: right;\">\n",
       "      <th></th>\n",
       "      <th>business_id</th>\n",
       "      <th>name</th>\n",
       "      <th>city</th>\n",
       "      <th>state</th>\n",
       "      <th>circle</th>\n",
       "      <th>text</th>\n",
       "      <th>stars</th>\n",
       "      <th>NN</th>\n",
       "    </tr>\n",
       "  </thead>\n",
       "  <tbody>\n",
       "    <tr>\n",
       "      <th>0</th>\n",
       "      <td>173463</td>\n",
       "      <td>Dairy Queen Brazier</td>\n",
       "      <td>Calgary</td>\n",
       "      <td>AB</td>\n",
       "      <td>0</td>\n",
       "      <td>This is the worst Dairy Queen I have been to e...</td>\n",
       "      <td>1.0</td>\n",
       "      <td>['Dairy', 'Queen', 'lots', 'Dairy', 'Queen', '...</td>\n",
       "    </tr>\n",
       "    <tr>\n",
       "      <th>1</th>\n",
       "      <td>173463</td>\n",
       "      <td>Dairy Queen Brazier</td>\n",
       "      <td>Calgary</td>\n",
       "      <td>AB</td>\n",
       "      <td>0</td>\n",
       "      <td>Microwaved hamburgers. Begrudgingly gives napk...</td>\n",
       "      <td>1.0</td>\n",
       "      <td>['hamburgers', 'Begrudgingly', 'napkins', 'Bli...</td>\n",
       "    </tr>\n",
       "    <tr>\n",
       "      <th>2</th>\n",
       "      <td>173463</td>\n",
       "      <td>Dairy Queen Brazier</td>\n",
       "      <td>Calgary</td>\n",
       "      <td>AB</td>\n",
       "      <td>0</td>\n",
       "      <td>I do not  understand why this DQ restaurant is...</td>\n",
       "      <td>2.0</td>\n",
       "      <td>['DQ', 'restaurant', 'DQ', 'Brazier', 'Dairy',...</td>\n",
       "    </tr>\n",
       "  </tbody>\n",
       "</table>\n",
       "</div>"
      ],
      "text/plain": [
       "   business_id                 name     city state  circle  \\\n",
       "0       173463  Dairy Queen Brazier  Calgary    AB       0   \n",
       "1       173463  Dairy Queen Brazier  Calgary    AB       0   \n",
       "2       173463  Dairy Queen Brazier  Calgary    AB       0   \n",
       "\n",
       "                                                text  stars  \\\n",
       "0  This is the worst Dairy Queen I have been to e...    1.0   \n",
       "1  Microwaved hamburgers. Begrudgingly gives napk...    1.0   \n",
       "2  I do not  understand why this DQ restaurant is...    2.0   \n",
       "\n",
       "                                                  NN  \n",
       "0  ['Dairy', 'Queen', 'lots', 'Dairy', 'Queen', '...  \n",
       "1  ['hamburgers', 'Begrudgingly', 'napkins', 'Bli...  \n",
       "2  ['DQ', 'restaurant', 'DQ', 'Brazier', 'Dairy',...  "
      ]
     },
     "execution_count": 55,
     "metadata": {},
     "output_type": "execute_result"
    }
   ],
   "source": [
    "f.head(3)"
   ]
  },
  {
   "cell_type": "code",
   "execution_count": 56,
   "metadata": {},
   "outputs": [],
   "source": [
    "import re\n",
    "\n",
    "f.loc[:,'text']=f['text'].apply(lambda sen: re.sub(r\"can\\'t\", \"can not\", sen))\n",
    "f['text']=f['text'].apply(lambda sen: re.sub(r\"cannot\", \"can not \", sen))\n",
    "f['text']=f['text'].apply(lambda sen: re.sub(r\"what\\'s\", \"what is\", sen))\n",
    "f['text']=f['text'].apply(lambda sen: re.sub(r\"\\'ve \", \" have \", sen))\n",
    "f['text']=f['text'].apply(lambda sen: re.sub(r\"n\\'t\", \" not \", sen))\n",
    "f['text']=f['text'].apply(lambda sen: re.sub(r\"i\\'m\", \"i am \", sen))\n",
    "f['text']=f['text'].apply(lambda sen: re.sub(r\"\\'re\", \" are \", sen))\n",
    "f['text']=f['text'].apply(lambda sen: re.sub(r\"\\'d\", \" would \", sen))\n",
    "f['text']=f['text'].apply(lambda sen: re.sub(r\"\\'ll\", \" will \", sen))"
   ]
  },
  {
   "cell_type": "code",
   "execution_count": 57,
   "metadata": {},
   "outputs": [],
   "source": [
    "data_dict=f"
   ]
  },
  {
   "cell_type": "code",
   "execution_count": 58,
   "metadata": {},
   "outputs": [],
   "source": [
    "from nltk.corpus import stopwords \n",
    "from nltk.tokenize import word_tokenize \n",
    "from nltk.stem.porter import PorterStemmer\n",
    "\n",
    "import nltk \n",
    "#nltk.download('stopwords')\n",
    "#nltk.download('averaged_perceptron_tagger')\n",
    "\n",
    "stop_words = set(stopwords.words('english')) "
   ]
  },
  {
   "cell_type": "code",
   "execution_count": 59,
   "metadata": {},
   "outputs": [],
   "source": [
    "from nltk import *\n",
    "data_dict.loc[:,'NN'] =None\n",
    "\n",
    "import numpy as np\n",
    "def detect(text):\n",
    "    NN = []\n",
    "    text =  word_tokenize(text)\n",
    "    temp = nltk.pos_tag(text)\n",
    "    i = 0\n",
    "    for word, tag in temp:\n",
    "        if word in stop_words:\n",
    "            continue\n",
    "        if re.match('NN[*]?', tag) != None:\n",
    "            p_stemmer = PorterStemmer()   ##############!!!\n",
    "            word = p_stemmer.stem(word)         ##############!!!\n",
    "            NN.append(word)\n",
    "    return list([NN])\n",
    "\n",
    "temp = pd.DataFrame(list(data_dict['text'].apply(detect)))\n",
    "data_dict['NN'] = temp[:][0]"
   ]
  },
  {
   "cell_type": "code",
   "execution_count": 60,
   "metadata": {
    "scrolled": false
   },
   "outputs": [
    {
     "name": "stdout",
     "output_type": "stream",
     "text": [
      "Unique words:  23082\n"
     ]
    },
    {
     "data": {
      "text/plain": [
       "[('food', 26201),\n",
       " ('order', 23747),\n",
       " ('time', 17801),\n",
       " ('burger', 15477),\n",
       " ('servic', 14213),\n",
       " ('fri', 13220),\n",
       " ('place', 13025),\n",
       " ('locat', 11891),\n",
       " ('mcdonald', 9710),\n",
       " ('drive', 8860),\n",
       " ('chicken', 8630),\n",
       " ('custom', 8166),\n",
       " ('manag', 7815),\n",
       " ('minut', 7426),\n",
       " ('thru', 6177),\n",
       " ('employe', 5929),\n",
       " ('peopl', 5749),\n",
       " ('staff', 5497),\n",
       " ('guy', 5492),\n",
       " ('way', 4781)]"
      ]
     },
     "execution_count": 60,
     "metadata": {},
     "output_type": "execute_result"
    }
   ],
   "source": [
    "NN = []\n",
    "\n",
    "for item in data_dict['NN']:\n",
    "    NN += item\n",
    "#count the words\n",
    "from collections import Counter\n",
    "\n",
    "#count the words\n",
    "words=NN\n",
    "\n",
    "# words wrong datatype\n",
    "counts = Counter(words)\n",
    "vocab = sorted(counts, key=counts.get, reverse=True)\n",
    "vocab_to_int_n = {word: ii for ii, word in enumerate(vocab, 1)}\n",
    "\n",
    "reviews_ints_n = []\n",
    "reviews_ints_n.append([vocab_to_int_n[word] for word in NN])\n",
    "print('Unique words: ', len((vocab_to_int_n)))\n",
    "counts.most_common(20)"
   ]
  },
  {
   "cell_type": "code",
   "execution_count": 61,
   "metadata": {},
   "outputs": [
    {
     "data": {
      "text/html": [
       "<div>\n",
       "<style scoped>\n",
       "    .dataframe tbody tr th:only-of-type {\n",
       "        vertical-align: middle;\n",
       "    }\n",
       "\n",
       "    .dataframe tbody tr th {\n",
       "        vertical-align: top;\n",
       "    }\n",
       "\n",
       "    .dataframe thead th {\n",
       "        text-align: right;\n",
       "    }\n",
       "</style>\n",
       "<table border=\"1\" class=\"dataframe\">\n",
       "  <thead>\n",
       "    <tr style=\"text-align: right;\">\n",
       "      <th></th>\n",
       "      <th>business_id</th>\n",
       "      <th>name</th>\n",
       "      <th>city</th>\n",
       "      <th>state</th>\n",
       "      <th>circle</th>\n",
       "      <th>text</th>\n",
       "      <th>stars</th>\n",
       "      <th>NN</th>\n",
       "    </tr>\n",
       "  </thead>\n",
       "  <tbody>\n",
       "    <tr>\n",
       "      <th>0</th>\n",
       "      <td>173463</td>\n",
       "      <td>Dairy Queen Brazier</td>\n",
       "      <td>Calgary</td>\n",
       "      <td>AB</td>\n",
       "      <td>0</td>\n",
       "      <td>This is the worst Dairy Queen I have been to e...</td>\n",
       "      <td>1.0</td>\n",
       "      <td>[dairi, queen, lot, dairi, queen, employe, yea...</td>\n",
       "    </tr>\n",
       "    <tr>\n",
       "      <th>1</th>\n",
       "      <td>173463</td>\n",
       "      <td>Dairy Queen Brazier</td>\n",
       "      <td>Calgary</td>\n",
       "      <td>AB</td>\n",
       "      <td>0</td>\n",
       "      <td>Microwaved hamburgers. Begrudgingly gives napk...</td>\n",
       "      <td>1.0</td>\n",
       "      <td>[hamburg, begrudgingli, napkin, blizzard, gril...</td>\n",
       "    </tr>\n",
       "    <tr>\n",
       "      <th>2</th>\n",
       "      <td>173463</td>\n",
       "      <td>Dairy Queen Brazier</td>\n",
       "      <td>Calgary</td>\n",
       "      <td>AB</td>\n",
       "      <td>0</td>\n",
       "      <td>I do not  understand why this DQ restaurant is...</td>\n",
       "      <td>2.0</td>\n",
       "      <td>[DQ, restaur, DQ, brazier, dairi, queen, DQ, c...</td>\n",
       "    </tr>\n",
       "    <tr>\n",
       "      <th>3</th>\n",
       "      <td>173463</td>\n",
       "      <td>Dairy Queen Brazier</td>\n",
       "      <td>Calgary</td>\n",
       "      <td>AB</td>\n",
       "      <td>0</td>\n",
       "      <td>Bad service, slow, unfriendly staff. I got a b...</td>\n",
       "      <td>1.0</td>\n",
       "      <td>[bad, servic, staff, blizzard, inch, rest, ice...</td>\n",
       "    </tr>\n",
       "    <tr>\n",
       "      <th>4</th>\n",
       "      <td>14859</td>\n",
       "      <td>KFC</td>\n",
       "      <td>Calgary</td>\n",
       "      <td>AB</td>\n",
       "      <td>0</td>\n",
       "      <td>I have not eaten at a KFC in quite some time a...</td>\n",
       "      <td>1.0</td>\n",
       "      <td>[kfc, time, locat, veri, air, condit, fli, tab...</td>\n",
       "    </tr>\n",
       "  </tbody>\n",
       "</table>\n",
       "</div>"
      ],
      "text/plain": [
       "   business_id                 name     city state  circle  \\\n",
       "0       173463  Dairy Queen Brazier  Calgary    AB       0   \n",
       "1       173463  Dairy Queen Brazier  Calgary    AB       0   \n",
       "2       173463  Dairy Queen Brazier  Calgary    AB       0   \n",
       "3       173463  Dairy Queen Brazier  Calgary    AB       0   \n",
       "4        14859                  KFC  Calgary    AB       0   \n",
       "\n",
       "                                                text  stars  \\\n",
       "0  This is the worst Dairy Queen I have been to e...    1.0   \n",
       "1  Microwaved hamburgers. Begrudgingly gives napk...    1.0   \n",
       "2  I do not  understand why this DQ restaurant is...    2.0   \n",
       "3  Bad service, slow, unfriendly staff. I got a b...    1.0   \n",
       "4  I have not eaten at a KFC in quite some time a...    1.0   \n",
       "\n",
       "                                                  NN  \n",
       "0  [dairi, queen, lot, dairi, queen, employe, yea...  \n",
       "1  [hamburg, begrudgingli, napkin, blizzard, gril...  \n",
       "2  [DQ, restaur, DQ, brazier, dairi, queen, DQ, c...  \n",
       "3  [bad, servic, staff, blizzard, inch, rest, ice...  \n",
       "4  [kfc, time, locat, veri, air, condit, fli, tab...  "
      ]
     },
     "execution_count": 61,
     "metadata": {},
     "output_type": "execute_result"
    }
   ],
   "source": [
    "data_dict.head()"
   ]
  },
  {
   "cell_type": "code",
   "execution_count": 62,
   "metadata": {},
   "outputs": [],
   "source": [
    "data_dict.to_csv(\"/Users/zzz/Dropbox/未命名文件夹/data/res_by_name/newdata/Burger/burger_root.csv\")"
   ]
  },
  {
   "cell_type": "code",
   "execution_count": 63,
   "metadata": {},
   "outputs": [],
   "source": [
    "a = data_dict['text']\n",
    "a.to_csv(\"/Users/zzz/Dropbox/未命名文件夹/data/res_by_name/newdata/Burger/burger_text.csv\")"
   ]
  },
  {
   "cell_type": "code",
   "execution_count": null,
   "metadata": {},
   "outputs": [],
   "source": []
  },
  {
   "cell_type": "code",
   "execution_count": null,
   "metadata": {},
   "outputs": [],
   "source": []
  },
  {
   "cell_type": "code",
   "execution_count": null,
   "metadata": {},
   "outputs": [],
   "source": []
  },
  {
   "cell_type": "code",
   "execution_count": 103,
   "metadata": {},
   "outputs": [],
   "source": [
    "f = pd.read_csv( '/Users/zzz/Dropbox/未命名文件夹/data/res_by_name/newdata/Sandwich/sandwich_r.csv',encoding = 'utf-8',index_col = 0)"
   ]
  },
  {
   "cell_type": "code",
   "execution_count": 104,
   "metadata": {},
   "outputs": [
    {
     "data": {
      "text/html": [
       "<div>\n",
       "<style scoped>\n",
       "    .dataframe tbody tr th:only-of-type {\n",
       "        vertical-align: middle;\n",
       "    }\n",
       "\n",
       "    .dataframe tbody tr th {\n",
       "        vertical-align: top;\n",
       "    }\n",
       "\n",
       "    .dataframe thead th {\n",
       "        text-align: right;\n",
       "    }\n",
       "</style>\n",
       "<table border=\"1\" class=\"dataframe\">\n",
       "  <thead>\n",
       "    <tr style=\"text-align: right;\">\n",
       "      <th></th>\n",
       "      <th>business_id</th>\n",
       "      <th>name</th>\n",
       "      <th>city</th>\n",
       "      <th>state</th>\n",
       "      <th>circle</th>\n",
       "      <th>text</th>\n",
       "      <th>stars</th>\n",
       "      <th>NN</th>\n",
       "    </tr>\n",
       "  </thead>\n",
       "  <tbody>\n",
       "    <tr>\n",
       "      <th>0</th>\n",
       "      <td>64799</td>\n",
       "      <td>Subway</td>\n",
       "      <td>Calgary</td>\n",
       "      <td>AB</td>\n",
       "      <td>0</td>\n",
       "      <td>Several years ago I worked in the area and wou...</td>\n",
       "      <td>3.0</td>\n",
       "      <td>['years', 'area', 'place', 'sandwich', 'Toront...</td>\n",
       "    </tr>\n",
       "    <tr>\n",
       "      <th>1</th>\n",
       "      <td>64799</td>\n",
       "      <td>Subway</td>\n",
       "      <td>Calgary</td>\n",
       "      <td>AB</td>\n",
       "      <td>0</td>\n",
       "      <td>OMG!! I'm ordering a steak &amp; cheese footling. ...</td>\n",
       "      <td>1.0</td>\n",
       "      <td>['OMG', 'steak', 'footling', 'lady', 'gloves',...</td>\n",
       "    </tr>\n",
       "    <tr>\n",
       "      <th>2</th>\n",
       "      <td>64799</td>\n",
       "      <td>Subway</td>\n",
       "      <td>Calgary</td>\n",
       "      <td>AB</td>\n",
       "      <td>0</td>\n",
       "      <td>Subway location in a Mac's location just off o...</td>\n",
       "      <td>3.0</td>\n",
       "      <td>['Subway', 'location', 'Mac', 'location', 'Bla...</td>\n",
       "    </tr>\n",
       "  </tbody>\n",
       "</table>\n",
       "</div>"
      ],
      "text/plain": [
       "   business_id    name     city state  circle  \\\n",
       "0        64799  Subway  Calgary    AB       0   \n",
       "1        64799  Subway  Calgary    AB       0   \n",
       "2        64799  Subway  Calgary    AB       0   \n",
       "\n",
       "                                                text  stars  \\\n",
       "0  Several years ago I worked in the area and wou...    3.0   \n",
       "1  OMG!! I'm ordering a steak & cheese footling. ...    1.0   \n",
       "2  Subway location in a Mac's location just off o...    3.0   \n",
       "\n",
       "                                                  NN  \n",
       "0  ['years', 'area', 'place', 'sandwich', 'Toront...  \n",
       "1  ['OMG', 'steak', 'footling', 'lady', 'gloves',...  \n",
       "2  ['Subway', 'location', 'Mac', 'location', 'Bla...  "
      ]
     },
     "execution_count": 104,
     "metadata": {},
     "output_type": "execute_result"
    }
   ],
   "source": [
    "f.head(3)"
   ]
  },
  {
   "cell_type": "code",
   "execution_count": 164,
   "metadata": {},
   "outputs": [
    {
     "data": {
      "text/html": [
       "<div>\n",
       "<style scoped>\n",
       "    .dataframe tbody tr th:only-of-type {\n",
       "        vertical-align: middle;\n",
       "    }\n",
       "\n",
       "    .dataframe tbody tr th {\n",
       "        vertical-align: top;\n",
       "    }\n",
       "\n",
       "    .dataframe thead th {\n",
       "        text-align: right;\n",
       "    }\n",
       "</style>\n",
       "<table border=\"1\" class=\"dataframe\">\n",
       "  <thead>\n",
       "    <tr style=\"text-align: right;\">\n",
       "      <th></th>\n",
       "      <th>business_id</th>\n",
       "      <th>name</th>\n",
       "      <th>city</th>\n",
       "      <th>state</th>\n",
       "      <th>circle</th>\n",
       "      <th>text</th>\n",
       "      <th>stars</th>\n",
       "      <th>NN</th>\n",
       "    </tr>\n",
       "  </thead>\n",
       "  <tbody>\n",
       "  </tbody>\n",
       "</table>\n",
       "</div>"
      ],
      "text/plain": [
       "Empty DataFrame\n",
       "Columns: [business_id, name, city, state, circle, text, stars, NN]\n",
       "Index: []"
      ]
     },
     "execution_count": 164,
     "metadata": {},
     "output_type": "execute_result"
    }
   ],
   "source": []
  },
  {
   "cell_type": "code",
   "execution_count": null,
   "metadata": {},
   "outputs": [],
   "source": []
  }
 ],
 "metadata": {
  "kernelspec": {
   "display_name": "Python 3",
   "language": "python",
   "name": "python3"
  },
  "language_info": {
   "codemirror_mode": {
    "name": "ipython",
    "version": 3
   },
   "file_extension": ".py",
   "mimetype": "text/x-python",
   "name": "python",
   "nbconvert_exporter": "python",
   "pygments_lexer": "ipython3",
   "version": "3.7.1"
  }
 },
 "nbformat": 4,
 "nbformat_minor": 2
}
