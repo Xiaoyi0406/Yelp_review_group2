{
 "cells": [
  {
   "cell_type": "code",
   "execution_count": 48,
   "metadata": {},
   "outputs": [],
   "source": [
    "#read the subdataset \n",
    "\n",
    "import pandas as pd\n",
    "import numpy as np\n",
    "import matplotlib.pyplot as plt\n",
    "import seaborn as sns\n",
    "import nltk\n",
    "from nltk.corpus import stopwords\n",
    "import string\n",
    "import math\n",
    "from sklearn.feature_extraction.text import CountVectorizer\n",
    "from sklearn.model_selection import train_test_split, cross_val_score\n",
    "from sklearn.metrics import classification_report\n",
    "from sklearn.metrics import confusion_matrix, accuracy_score, roc_auc_score, roc_curve\n",
    "\n",
    "# read the entire file into a python array\n",
    "with open('/Users/kzhao46/Downloads/628-2/data/review_train.json', 'rb') as f:\n",
    "    data = f.readlines(10000000)\n",
    "\n",
    "# remove the trailing \"\\n\" from each line\n",
    "data = map(lambda x: x.rstrip(), data)\n",
    "\n",
    "\n",
    "data_json_str = \"[\" + ','.join(data) + \"]\"\n",
    "\n",
    "# now, load it into pandas\n",
    "data_df = pd.read_json(data_json_str)"
   ]
  },
  {
   "cell_type": "code",
   "execution_count": 49,
   "metadata": {},
   "outputs": [
    {
     "name": "stdout",
     "output_type": "stream",
     "text": [
      "Shape of the dataset:\n",
      "(15056, 4)\n"
     ]
    }
   ],
   "source": [
    "print(\"Shape of the dataset:\")\n",
    "print(data_df.shape)"
   ]
  },
  {
   "cell_type": "code",
   "execution_count": 50,
   "metadata": {},
   "outputs": [
    {
     "name": "stdout",
     "output_type": "stream",
     "text": [
      "Column names:\n",
      "Index([u'business_id', u'date', u'stars', u'text'], dtype='object')\n"
     ]
    }
   ],
   "source": [
    "print(\"Column names:\")\n",
    "print(data_df.columns)"
   ]
  },
  {
   "cell_type": "code",
   "execution_count": 51,
   "metadata": {},
   "outputs": [
    {
     "name": "stdout",
     "output_type": "stream",
     "text": [
      "Datatype of each column:\n",
      "business_id             int64\n",
      "date           datetime64[ns]\n",
      "stars                   int64\n",
      "text                   object\n",
      "dtype: object\n"
     ]
    }
   ],
   "source": [
    "print(\"Datatype of each column:\")\n",
    "print(data_df.dtypes)"
   ]
  },
  {
   "cell_type": "code",
   "execution_count": 52,
   "metadata": {},
   "outputs": [
    {
     "name": "stdout",
     "output_type": "stream",
     "text": [
      "Few dataset entries:\n"
     ]
    },
    {
     "data": {
      "text/html": [
       "<div>\n",
       "<style scoped>\n",
       "    .dataframe tbody tr th:only-of-type {\n",
       "        vertical-align: middle;\n",
       "    }\n",
       "\n",
       "    .dataframe tbody tr th {\n",
       "        vertical-align: top;\n",
       "    }\n",
       "\n",
       "    .dataframe thead th {\n",
       "        text-align: right;\n",
       "    }\n",
       "</style>\n",
       "<table border=\"1\" class=\"dataframe\">\n",
       "  <thead>\n",
       "    <tr style=\"text-align: right;\">\n",
       "      <th></th>\n",
       "      <th>business_id</th>\n",
       "      <th>date</th>\n",
       "      <th>stars</th>\n",
       "      <th>text</th>\n",
       "    </tr>\n",
       "  </thead>\n",
       "  <tbody>\n",
       "    <tr>\n",
       "      <th>0</th>\n",
       "      <td>31292</td>\n",
       "      <td>2013-05-07 04:34:36</td>\n",
       "      <td>1</td>\n",
       "      <td>Total bill for this horrible service? Over $8G...</td>\n",
       "    </tr>\n",
       "    <tr>\n",
       "      <th>1</th>\n",
       "      <td>35344</td>\n",
       "      <td>2017-01-14 21:30:33</td>\n",
       "      <td>5</td>\n",
       "      <td>I *adore* Travis at the Hard Rock's new Kelly ...</td>\n",
       "    </tr>\n",
       "    <tr>\n",
       "      <th>2</th>\n",
       "      <td>152538</td>\n",
       "      <td>2016-11-09 20:09:03</td>\n",
       "      <td>5</td>\n",
       "      <td>I have to say that this office really has it t...</td>\n",
       "    </tr>\n",
       "    <tr>\n",
       "      <th>3</th>\n",
       "      <td>71871</td>\n",
       "      <td>2018-01-09 20:56:38</td>\n",
       "      <td>5</td>\n",
       "      <td>Went in for a lunch. Steak sandwich was delici...</td>\n",
       "    </tr>\n",
       "    <tr>\n",
       "      <th>4</th>\n",
       "      <td>64913</td>\n",
       "      <td>2018-01-30 23:07:38</td>\n",
       "      <td>1</td>\n",
       "      <td>Today was my second out of three sessions I ha...</td>\n",
       "    </tr>\n",
       "  </tbody>\n",
       "</table>\n",
       "</div>"
      ],
      "text/plain": [
       "   business_id                date  stars  \\\n",
       "0        31292 2013-05-07 04:34:36      1   \n",
       "1        35344 2017-01-14 21:30:33      5   \n",
       "2       152538 2016-11-09 20:09:03      5   \n",
       "3        71871 2018-01-09 20:56:38      5   \n",
       "4        64913 2018-01-30 23:07:38      1   \n",
       "\n",
       "                                                text  \n",
       "0  Total bill for this horrible service? Over $8G...  \n",
       "1  I *adore* Travis at the Hard Rock's new Kelly ...  \n",
       "2  I have to say that this office really has it t...  \n",
       "3  Went in for a lunch. Steak sandwich was delici...  \n",
       "4  Today was my second out of three sessions I ha...  "
      ]
     },
     "execution_count": 52,
     "metadata": {},
     "output_type": "execute_result"
    }
   ],
   "source": [
    "print(\"Few dataset entries:\")\n",
    "data_df.head()"
   ]
  },
  {
   "cell_type": "code",
   "execution_count": 53,
   "metadata": {},
   "outputs": [
    {
     "data": {
      "text/html": [
       "<div>\n",
       "<style scoped>\n",
       "    .dataframe tbody tr th:only-of-type {\n",
       "        vertical-align: middle;\n",
       "    }\n",
       "\n",
       "    .dataframe tbody tr th {\n",
       "        vertical-align: top;\n",
       "    }\n",
       "\n",
       "    .dataframe thead th {\n",
       "        text-align: right;\n",
       "    }\n",
       "</style>\n",
       "<table border=\"1\" class=\"dataframe\">\n",
       "  <thead>\n",
       "    <tr style=\"text-align: right;\">\n",
       "      <th></th>\n",
       "      <th>business_id</th>\n",
       "      <th>date</th>\n",
       "      <th>stars</th>\n",
       "      <th>text</th>\n",
       "      <th>length</th>\n",
       "    </tr>\n",
       "  </thead>\n",
       "  <tbody>\n",
       "    <tr>\n",
       "      <th>0</th>\n",
       "      <td>31292</td>\n",
       "      <td>2013-05-07 04:34:36</td>\n",
       "      <td>1</td>\n",
       "      <td>Total bill for this horrible service? Over $8G...</td>\n",
       "      <td>204</td>\n",
       "    </tr>\n",
       "    <tr>\n",
       "      <th>1</th>\n",
       "      <td>35344</td>\n",
       "      <td>2017-01-14 21:30:33</td>\n",
       "      <td>5</td>\n",
       "      <td>I *adore* Travis at the Hard Rock's new Kelly ...</td>\n",
       "      <td>1561</td>\n",
       "    </tr>\n",
       "    <tr>\n",
       "      <th>2</th>\n",
       "      <td>152538</td>\n",
       "      <td>2016-11-09 20:09:03</td>\n",
       "      <td>5</td>\n",
       "      <td>I have to say that this office really has it t...</td>\n",
       "      <td>615</td>\n",
       "    </tr>\n",
       "    <tr>\n",
       "      <th>3</th>\n",
       "      <td>71871</td>\n",
       "      <td>2018-01-09 20:56:38</td>\n",
       "      <td>5</td>\n",
       "      <td>Went in for a lunch. Steak sandwich was delici...</td>\n",
       "      <td>407</td>\n",
       "    </tr>\n",
       "    <tr>\n",
       "      <th>4</th>\n",
       "      <td>64913</td>\n",
       "      <td>2018-01-30 23:07:38</td>\n",
       "      <td>1</td>\n",
       "      <td>Today was my second out of three sessions I ha...</td>\n",
       "      <td>3509</td>\n",
       "    </tr>\n",
       "  </tbody>\n",
       "</table>\n",
       "</div>"
      ],
      "text/plain": [
       "   business_id                date  stars  \\\n",
       "0        31292 2013-05-07 04:34:36      1   \n",
       "1        35344 2017-01-14 21:30:33      5   \n",
       "2       152538 2016-11-09 20:09:03      5   \n",
       "3        71871 2018-01-09 20:56:38      5   \n",
       "4        64913 2018-01-30 23:07:38      1   \n",
       "\n",
       "                                                text  length  \n",
       "0  Total bill for this horrible service? Over $8G...     204  \n",
       "1  I *adore* Travis at the Hard Rock's new Kelly ...    1561  \n",
       "2  I have to say that this office really has it t...     615  \n",
       "3  Went in for a lunch. Steak sandwich was delici...     407  \n",
       "4  Today was my second out of three sessions I ha...    3509  "
      ]
     },
     "execution_count": 53,
     "metadata": {},
     "output_type": "execute_result"
    }
   ],
   "source": [
    "#create a new column for the number of words in text\n",
    "data_df['length'] = data_df['text'].apply(len)\n",
    "data_df.head()"
   ]
  },
  {
   "cell_type": "code",
   "execution_count": 54,
   "metadata": {},
   "outputs": [
    {
     "data": {
      "text/plain": [
       "<seaborn.axisgrid.FacetGrid at 0x1a2555fe10>"
      ]
     },
     "execution_count": 54,
     "metadata": {},
     "output_type": "execute_result"
    },
    {
     "data": {
      "image/png": "[encoded data removed]",
      "text/plain": [
       "<Figure size 1080x216 with 5 Axes>"
      ]
     },
     "metadata": {
      "needs_background": "light"
     },
     "output_type": "display_data"
    }
   ],
   "source": [
    "#cor stars vs length\n",
    "graph = sns.FacetGrid(data=data_df,col='stars')\n",
    "graph.map(plt.hist,'length',bins=50,color='blue')"
   ]
  },
  {
   "cell_type": "code",
   "execution_count": null,
   "metadata": {},
   "outputs": [],
   "source": []
  },
  {
   "cell_type": "code",
   "execution_count": 61,
   "metadata": {},
   "outputs": [
    {
     "data": {
      "text/plain": [
       "0        total bill for this horrible service over 8gs ...\n",
       "1        i adore travis at the hard rocks new kelly car...\n",
       "2        i have to say that this office really has it t...\n",
       "3        went in for a lunch steak sandwich was delicio...\n",
       "4        today was my second out of three sessions i ha...\n",
       "5        ill be the first to admit that i was not excit...\n",
       "6        tracy dessert had a big name in hong kong and ...\n",
       "7        this place has gone down hill clearly they hav...\n",
       "8        its a giant best buy with 66 registers i dont ...\n",
       "9        like walking back in time every saturday morni...\n",
       "10       walked in around 4 on a friday afternoon we sa...\n",
       "11       wow so surprised at the one and two star revie...\n",
       "12       michael from red carpet vip is amazing i reach...\n",
       "13       i cannot believe how things have changed in 3 ...\n",
       "14       you cant really find anything wrong with this ...\n",
       "15       great lunch today staff was very helpful in as...\n",
       "16       weve been a huge slims fan since they opened o...\n",
       "17       good selection of classes of beers and mains i...\n",
       "18       the food is always good and the prices are rea...\n",
       "19       pick any meat on the planet and the chef will ...\n",
       "20       plumbsmart provided superior service from begi...\n",
       "21       unfortunately i must recommend not to conduct ...\n",
       "22       their pettuccine was freshmade in the morning ...\n",
       "23       if i can give this place no stars i would i on...\n",
       "24       this review is in regards to our experience wa...\n",
       "25       ended up here because raku was closed and it r...\n",
       "26       i tried this place because my girls are away f...\n",
       "27       love this place downtown but the scottsdale lo...\n",
       "28       best chinese resto highly recommended 5 stars ...\n",
       "29       went here last weekend and was pretty disappoi...\n",
       "                               ...                        \n",
       "15026    i think going to fat tuesday is a must do if i...\n",
       "15027    jessica is the bomb when it comes to hair cuts...\n",
       "15028    on thursday afternoon at 100 pm there was no p...\n",
       "15029    it was okay for now i had one scoop of tiramis...\n",
       "15030    not a good experience at all ended up getting ...\n",
       "15031    i could see why this place has great reviews t...\n",
       "15032    awful employees i was kicked out for hanging o...\n",
       "15033    a very pricey 50 along with a big sign that sa...\n",
       "15034    4 stars for the beef noodle soup minus 1 star ...\n",
       "15035    our baby logan recently had a cough that we we...\n",
       "15036    i am originally from scottsdale but i live in ...\n",
       "15037    she was amazing i called from california and w...\n",
       "15038    you made my heart smile twice is that even pos...\n",
       "15039    visiting davidson college and stopped in for l...\n",
       "15040    based on a recommendation from a friend we dec...\n",
       "15041    i have been a patient of dr burns for over ten...\n",
       "15042    new name same staff and same mediocre over pri...\n",
       "15043    this is the worst fast food restaurant i north...\n",
       "15044    so glad theres a good sushi place in the neigh...\n",
       "15045    this is simply a hidden jewel of charlotte if ...\n",
       "15046    blah not my scene at all 1 there is no where t...\n",
       "15047    i had to come back 2 times for wrong order i o...\n",
       "15048    im so excited for hrv because they just moved ...\n",
       "15049    if not for their loyalty club the insider id p...\n",
       "15050    i called them at the last minute and asked the...\n",
       "15051    quality old school gym that focuses on core ex...\n",
       "15052    my husband had the pecan sticky bun very good ...\n",
       "15053    store experience was less than great was given...\n",
       "15054    in the mood for a pepperoni roll stop in manci...\n",
       "15055    they have very good food ever all the food ite...\n",
       "Name: text, Length: 15056, dtype: object"
      ]
     },
     "execution_count": 61,
     "metadata": {},
     "output_type": "execute_result"
    }
   ],
   "source": [
    "#Normalization\n",
    "#A-a\n",
    "data_df['text']=data_df['text'].apply(lambda sen:\" \".join(x.lower() for x in sen.split())) \n",
    "#remove punctuations\n",
    "data_df['text'] = data_df['text'].str.replace('[^\\w\\s]','') \n",
    "data_df['text']"
   ]
  },
  {
   "cell_type": "code",
   "execution_count": 57,
   "metadata": {},
   "outputs": [
    {
     "ename": "LookupError",
     "evalue": "\n**********************************************************************\n  Resource \u001b[93mstopwords\u001b[0m not found.\n  Please use the NLTK Downloader to obtain the resource:\n\n  \u001b[31m>>> import nltk\n  >>> nltk.download('stopwords')\n  \u001b[0m\n  Attempted to load \u001b[93mcorpora/stopwords\u001b[0m\n\n  Searched in:\n    - '/Users/kzhao46/nltk_data'\n    - '/anaconda3/nltk_data'\n    - '/anaconda3/share/nltk_data'\n    - '/anaconda3/lib/nltk_data'\n    - '/usr/share/nltk_data'\n    - '/usr/local/share/nltk_data'\n    - '/usr/lib/nltk_data'\n    - '/usr/local/lib/nltk_data'\n**********************************************************************\n",
     "output_type": "error",
     "traceback": [
      "\u001b[0;31m---------------------------------------------------------------------------\u001b[0m",
      "\u001b[0;31mLookupError\u001b[0m                               Traceback (most recent call last)",
      "\u001b[0;32m<ipython-input-57-6c8d9a6b78e9>\u001b[0m in \u001b[0;36m<module>\u001b[0;34m()\u001b[0m\n\u001b[1;32m      1\u001b[0m \u001b[0;31m#Tokenization\u001b[0m\u001b[0;34m\u001b[0m\u001b[0;34m\u001b[0m\u001b[0m\n\u001b[1;32m      2\u001b[0m \u001b[0;32mfrom\u001b[0m \u001b[0mnltk\u001b[0m\u001b[0;34m.\u001b[0m\u001b[0mcorpus\u001b[0m \u001b[0;32mimport\u001b[0m \u001b[0mstopwords\u001b[0m\u001b[0;34m\u001b[0m\u001b[0m\n\u001b[0;32m----> 3\u001b[0;31m \u001b[0mstop\u001b[0m \u001b[0;34m=\u001b[0m \u001b[0mstopwords\u001b[0m\u001b[0;34m.\u001b[0m\u001b[0mwords\u001b[0m\u001b[0;34m(\u001b[0m\u001b[0;34m'english'\u001b[0m\u001b[0;34m)\u001b[0m\u001b[0;34m\u001b[0m\u001b[0m\n\u001b[0m\u001b[1;32m      4\u001b[0m \u001b[0mstop\u001b[0m\u001b[0;34m.\u001b[0m\u001b[0mpop\u001b[0m\u001b[0;34m(\u001b[0m\u001b[0mstop\u001b[0m\u001b[0;34m.\u001b[0m\u001b[0mindex\u001b[0m\u001b[0;34m(\u001b[0m\u001b[0;34m'but'\u001b[0m\u001b[0;34m)\u001b[0m\u001b[0;34m)\u001b[0m\u001b[0;34m\u001b[0m\u001b[0m\n\u001b[1;32m      5\u001b[0m \u001b[0mstop\u001b[0m\u001b[0;34m.\u001b[0m\u001b[0mpop\u001b[0m\u001b[0;34m(\u001b[0m\u001b[0mstop\u001b[0m\u001b[0;34m.\u001b[0m\u001b[0mindex\u001b[0m\u001b[0;34m(\u001b[0m\u001b[0;34m'not'\u001b[0m\u001b[0;34m)\u001b[0m\u001b[0;34m)\u001b[0m\u001b[0;34m\u001b[0m\u001b[0m\n",
      "\u001b[0;32m/anaconda3/lib/python2.7/site-packages/nltk/corpus/util.pyc\u001b[0m in \u001b[0;36m__getattr__\u001b[0;34m(self, attr)\u001b[0m\n",
      "\u001b[0;32m/anaconda3/lib/python2.7/site-packages/nltk/corpus/util.pyc\u001b[0m in \u001b[0;36m__load\u001b[0;34m(self)\u001b[0m\n",
      "\u001b[0;31mLookupError\u001b[0m: \n**********************************************************************\n  Resource \u001b[93mstopwords\u001b[0m not found.\n  Please use the NLTK Downloader to obtain the resource:\n\n  \u001b[31m>>> import nltk\n  >>> nltk.download('stopwords')\n  \u001b[0m\n  Attempted to load \u001b[93mcorpora/stopwords\u001b[0m\n\n  Searched in:\n    - '/Users/kzhao46/nltk_data'\n    - '/anaconda3/nltk_data'\n    - '/anaconda3/share/nltk_data'\n    - '/anaconda3/lib/nltk_data'\n    - '/usr/share/nltk_data'\n    - '/usr/local/share/nltk_data'\n    - '/usr/lib/nltk_data'\n    - '/usr/local/lib/nltk_data'\n**********************************************************************\n"
     ]
    }
   ],
   "source": [
    "#Tokenization\n",
    "from nltk.corpus import stopwords\n",
    "stop = stopwords.words('english')\n"
   ]
  },
  {
   "cell_type": "code",
   "execution_count": 62,
   "metadata": {},
   "outputs": [
    {
     "ename": "NameError",
     "evalue": "name 'sen' is not defined",
     "output_type": "error",
     "traceback": [
      "\u001b[0;31m---------------------------------------------------------------------------\u001b[0m",
      "\u001b[0;31mNameError\u001b[0m                                 Traceback (most recent call last)",
      "\u001b[0;32m<ipython-input-62-45bae7aff7f1>\u001b[0m in \u001b[0;36m<module>\u001b[0;34m()\u001b[0m\n\u001b[1;32m      1\u001b[0m \u001b[0;31m#n't to not\u001b[0m\u001b[0;34m\u001b[0m\u001b[0;34m\u001b[0m\u001b[0m\n\u001b[0;32m----> 2\u001b[0;31m \u001b[0mdata_df\u001b[0m\u001b[0;34m[\u001b[0m\u001b[0;34m'text'\u001b[0m\u001b[0;34m]\u001b[0m\u001b[0;34m=\u001b[0m\u001b[0mdata_df\u001b[0m\u001b[0;34m[\u001b[0m\u001b[0;34m'text'\u001b[0m\u001b[0;34m]\u001b[0m\u001b[0;34m.\u001b[0m\u001b[0mapply\u001b[0m\u001b[0;34m(\u001b[0m\u001b[0;32mlambda\u001b[0m \u001b[0msen\u001b[0m\u001b[0;34m:\u001b[0m \u001b[0mre\u001b[0m\u001b[0;34m.\u001b[0m\u001b[0msub\u001b[0m\u001b[0;34m(\u001b[0m\u001b[0;34mr\"n\\'t\"\u001b[0m\u001b[0;34m,\u001b[0m \u001b[0;34m\"not\"\u001b[0m\u001b[0;34m,\u001b[0m \u001b[0mtext\u001b[0m\u001b[0;34m)\u001b[0m \u001b[0;32mfor\u001b[0m \u001b[0mx\u001b[0m \u001b[0;32min\u001b[0m \u001b[0msen\u001b[0m\u001b[0;34m.\u001b[0m\u001b[0msplit\u001b[0m\u001b[0;34m(\u001b[0m\u001b[0;34m)\u001b[0m\u001b[0;34m)\u001b[0m\u001b[0;34m\u001b[0m\u001b[0m\n\u001b[0m",
      "\u001b[0;31mNameError\u001b[0m: name 'sen' is not defined"
     ]
    }
   ],
   "source": [
    "#n't to not\n",
    "data_df['text']=data_df['text'].apply(lambda sen: re.sub(r\"n\\'t\", \"not\", text) for x in sen.split())"
   ]
  },
  {
   "cell_type": "code",
   "execution_count": 30,
   "metadata": {},
   "outputs": [
    {
     "name": "stdout",
     "output_type": "stream",
     "text": [
      "('Unique words: ', 86244)\n"
     ]
    }
   ],
   "source": [
    "\n",
    "#count the words\n",
    "from collections import Counter\n",
    "\n",
    "text = ' '.join(data_df['text'].tolist())\n",
    "review_word = text.split(' ')\n",
    "all_reviews = ' '.join(review_word)\n",
    "words = all_reviews.split()\n",
    "\n",
    "# words wrong datatype\n",
    "counts = Counter(words)\n",
    "vocab = sorted(counts, key=counts.get, reverse=True)\n",
    "vocab_to_int = {word: ii for ii, word in enumerate(vocab, 1)}\n",
    "\n",
    "reviews_ints = []\n",
    "for review in review_word:\n",
    "    reviews_ints.append([vocab_to_int[word] for word in review.split()])\n",
    "print('Unique words: ', len((vocab_to_int)))"
   ]
  },
  {
   "cell_type": "code",
   "execution_count": null,
   "metadata": {},
   "outputs": [],
   "source": [
    "#去掉常用无用词\n",
    "#去掉或替换不常用词"
   ]
  },
  {
   "cell_type": "code",
   "execution_count": 15,
   "metadata": {},
   "outputs": [
    {
     "name": "stdout",
     "output_type": "stream",
     "text": [
      "('Unique words: ', 86244)\n"
     ]
    },
    {
     "data": {
      "text/plain": [
       "[(u'the', 65144),\n",
       " (u'and', 54948),\n",
       " (u'I', 41282),\n",
       " (u'a', 39395),\n",
       " (u'to', 38539),\n",
       " (u'was', 28091),\n",
       " (u'of', 22847),\n",
       " (u'is', 19116),\n",
       " (u'for', 18290),\n",
       " (u'in', 16481),\n",
       " (u'The', 13893),\n",
       " (u'it', 13736),\n",
       " (u'with', 13032),\n",
       " (u'my', 12791),\n",
       " (u'that', 12320),\n",
       " (u'but', 10611),\n",
       " (u'on', 10477),\n",
       " (u'have', 9914),\n",
       " (u'you', 9840),\n",
       " (u'this', 9523)]"
      ]
     },
     "execution_count": 15,
     "metadata": {},
     "output_type": "execute_result"
    }
   ],
   "source": [
    "#常见\n",
    "print('Unique words: ', len((vocab_to_int)))\n",
    "counts.most_common(20)"
   ]
  },
  {
   "cell_type": "code",
   "execution_count": 60,
   "metadata": {},
   "outputs": [
    {
     "data": {
      "text/plain": [
       "embody            1\n",
       "yearolds          1\n",
       "varit             1\n",
       "kopi              1\n",
       "n9tified          1\n",
       "thenhate          1\n",
       "102916            1\n",
       "expansions        1\n",
       "tuned             1\n",
       "lasagnaand        1\n",
       "officials         1\n",
       "reinforcements    1\n",
       "baylee            1\n",
       "tens              1\n",
       "debutantes        1\n",
       "mago              1\n",
       "inundate          1\n",
       "stratton          1\n",
       "pecancream        1\n",
       "sooth             1\n",
       "dtype: int64"
      ]
     },
     "execution_count": 60,
     "metadata": {},
     "output_type": "execute_result"
    }
   ],
   "source": [
    "#\n",
    "freq = pd.Series(' '.join(data_df['text']).split()).value_counts()[-20:]\n",
    "freq"
   ]
  },
  {
   "cell_type": "code",
   "execution_count": null,
   "metadata": {},
   "outputs": [],
   "source": []
  }
 ],
 "metadata": {
  "kernelspec": {
   "display_name": "Python 2",
   "language": "python",
   "name": "python2"
  },
  "language_info": {
   "codemirror_mode": {
    "name": "ipython",
    "version": 2
   },
   "file_extension": ".py",
   "mimetype": "text/x-python",
   "name": "python",
   "nbconvert_exporter": "python",
   "pygments_lexer": "ipython2",
   "version": "2.7.15"
  },
  "widgets": {
   "state": {},
   "version": "1.1.2"
  }
 },
 "nbformat": 4,
 "nbformat_minor": 2
}
